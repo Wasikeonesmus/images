{
 "cells": [
  {
   "cell_type": "markdown",
   "metadata": {
    "papermill": {
     "duration": 0.02273,
     "end_time": "2021-02-23T12:38:09.299915",
     "exception": false,
     "start_time": "2021-02-23T12:38:09.277185",
     "status": "completed"
    },
    "tags": []
   },
   "source": [
    "# Sentiment Analysis of E-Commerce Review Data"
   ]
  },
  {
   "cell_type": "markdown",
   "metadata": {
    "papermill": {
     "duration": 0.020737,
     "end_time": "2021-02-23T12:38:09.341692",
     "exception": false,
     "start_time": "2021-02-23T12:38:09.320955",
     "status": "completed"
    },
    "tags": []
   },
   "source": [
    "- Let's do sentiment analysis as a binary classification problem\n",
    "  - The outcome variable is operatinalized as \"recommend\" or \"not recommend\"\n",
    "- The analysis contains Natural Language Processing\n",
    "  - Stemming\n",
    "  - Lemmatizing\n",
    "  - TF-IDF\n",
    "- Classification algorithms: known to be effective in NLP \n",
    "  - Logistic regression\n",
    "  - Suppor Vector Machine\n",
    "  - Naive Bayes \n",
    "- Performance metric\n",
    "  - AUC"
   ]
  },
  {
   "cell_type": "markdown",
   "metadata": {
    "papermill": {
     "duration": 0.0205,
     "end_time": "2021-02-23T12:38:09.385200",
     "exception": false,
     "start_time": "2021-02-23T12:38:09.364700",
     "status": "completed"
    },
    "tags": []
   },
   "source": [
    "# 1. Load and Explore the Dataset"
   ]
  },
  {
   "cell_type": "code",
   "execution_count": 1,
   "metadata": {
    "execution": {
     "iopub.execute_input": "2021-02-23T12:38:09.430540Z",
     "iopub.status.busy": "2021-02-23T12:38:09.429906Z",
     "iopub.status.idle": "2021-02-23T12:38:11.291869Z",
     "shell.execute_reply": "2021-02-23T12:38:11.291001Z"
    },
    "papermill": {
     "duration": 1.885962,
     "end_time": "2021-02-23T12:38:11.292124",
     "exception": false,
     "start_time": "2021-02-23T12:38:09.406162",
     "status": "completed"
    },
    "tags": []
   },
   "outputs": [],
   "source": [
    "# Import libraries\n",
    "\n",
    "# Data handling\n",
    "import pandas as pd\n",
    "import numpy as np\n",
    "\n",
    "# NLP\n",
    "## Stopwords and Stemming\n",
    "import re, nltk\n",
    "from nltk.corpus import stopwords\n",
    "from nltk.tokenize import sent_tokenize, word_tokenize\n",
    "from nltk.stem import PorterStemmer\n",
    "from nltk.stem import LancasterStemmer\n",
    "## Lemmatization\n",
    "from nltk.stem import WordNetLemmatizer\n",
    "import re\n",
    "# TF-IDF vectors\n",
    "from sklearn.feature_extraction.text import TfidfVectorizer\n",
    "\n",
    "# Data preparation\n",
    "## Splitting train and test\n",
    "from sklearn.model_selection import train_test_split\n",
    "## Combining SMOTE and Edited Nearest Neighbors sampling for imbalanced classification\n",
    "from imblearn.combine import SMOTEENN\n",
    "from imblearn.under_sampling import EditedNearestNeighbours\n",
    "\n",
    "# Classification\n",
    "from sklearn.linear_model import LogisticRegression\n",
    "from sklearn.naive_bayes import MultinomialNB\n",
    "from sklearn.svm import LinearSVC\n",
    "\n",
    "# Model performance\n",
    "## Performance metrics\n",
    "from sklearn.metrics import accuracy_score, precision_score, recall_score, f1_score, roc_auc_score, confusion_matrix\n",
    "## ROC curve\n",
    "from sklearn.metrics import roc_curve,auc\n",
    "from sklearn import metrics\n",
    "import matplotlib.pyplot as plt\n",
    "%matplotlib inline"
   ]
  },
  {
   "cell_type": "code",
   "execution_count": 2,
   "metadata": {
    "execution": {
     "iopub.execute_input": "2021-02-23T12:38:11.342085Z",
     "iopub.status.busy": "2021-02-23T12:38:11.341103Z",
     "iopub.status.idle": "2021-02-23T12:38:11.363462Z",
     "shell.execute_reply": "2021-02-23T12:38:11.362460Z"
    },
    "papermill": {
     "duration": 0.046823,
     "end_time": "2021-02-23T12:38:11.363659",
     "exception": false,
     "start_time": "2021-02-23T12:38:11.316836",
     "status": "completed"
    },
    "tags": []
   },
   "outputs": [
    {
     "name": "stdout",
     "output_type": "stream",
     "text": [
      "/kaggle/input/ecommerce-reviews-for-women-clothings/Womens-Clothing-E-Commerce-Reviews.csv\n"
     ]
    }
   ],
   "source": [
    "# Set file path\n",
    "import os\n",
    "for dirname, _, filenames in os.walk('/kaggle/input'):\n",
    "    for filename in filenames:\n",
    "        print(os.path.join(dirname, filename))"
   ]
  },
  {
   "cell_type": "code",
   "execution_count": 3,
   "metadata": {
    "execution": {
     "iopub.execute_input": "2021-02-23T12:38:11.413423Z",
     "iopub.status.busy": "2021-02-23T12:38:11.412602Z",
     "iopub.status.idle": "2021-02-23T12:38:11.721746Z",
     "shell.execute_reply": "2021-02-23T12:38:11.721079Z"
    },
    "papermill": {
     "duration": 0.335714,
     "end_time": "2021-02-23T12:38:11.721888",
     "exception": false,
     "start_time": "2021-02-23T12:38:11.386174",
     "status": "completed"
    },
    "tags": []
   },
   "outputs": [
    {
     "data": {
      "text/html": [
       "<div>\n",
       "<style scoped>\n",
       "    .dataframe tbody tr th:only-of-type {\n",
       "        vertical-align: middle;\n",
       "    }\n",
       "\n",
       "    .dataframe tbody tr th {\n",
       "        vertical-align: top;\n",
       "    }\n",
       "\n",
       "    .dataframe thead th {\n",
       "        text-align: right;\n",
       "    }\n",
       "</style>\n",
       "<table border=\"1\" class=\"dataframe\">\n",
       "  <thead>\n",
       "    <tr style=\"text-align: right;\">\n",
       "      <th></th>\n",
       "      <th>Unnamed: 0</th>\n",
       "      <th>Clothing ID</th>\n",
       "      <th>Age</th>\n",
       "      <th>Title</th>\n",
       "      <th>Review Text</th>\n",
       "      <th>Rating</th>\n",
       "      <th>Recommended IND</th>\n",
       "      <th>Positive Feedback Count</th>\n",
       "      <th>Division Name</th>\n",
       "      <th>Department Name</th>\n",
       "      <th>Class Name</th>\n",
       "    </tr>\n",
       "  </thead>\n",
       "  <tbody>\n",
       "    <tr>\n",
       "      <th>0</th>\n",
       "      <td>0</td>\n",
       "      <td>767</td>\n",
       "      <td>33</td>\n",
       "      <td>NaN</td>\n",
       "      <td>Absolutely wonderful - silky and sexy and comf...</td>\n",
       "      <td>4</td>\n",
       "      <td>1</td>\n",
       "      <td>0</td>\n",
       "      <td>Initmates</td>\n",
       "      <td>Intimate</td>\n",
       "      <td>Intimates</td>\n",
       "    </tr>\n",
       "    <tr>\n",
       "      <th>1</th>\n",
       "      <td>1</td>\n",
       "      <td>1080</td>\n",
       "      <td>34</td>\n",
       "      <td>NaN</td>\n",
       "      <td>Love this dress!  it's sooo pretty.  i happene...</td>\n",
       "      <td>5</td>\n",
       "      <td>1</td>\n",
       "      <td>4</td>\n",
       "      <td>General</td>\n",
       "      <td>Dresses</td>\n",
       "      <td>Dresses</td>\n",
       "    </tr>\n",
       "    <tr>\n",
       "      <th>2</th>\n",
       "      <td>2</td>\n",
       "      <td>1077</td>\n",
       "      <td>60</td>\n",
       "      <td>Some major design flaws</td>\n",
       "      <td>I had such high hopes for this dress and reall...</td>\n",
       "      <td>3</td>\n",
       "      <td>0</td>\n",
       "      <td>0</td>\n",
       "      <td>General</td>\n",
       "      <td>Dresses</td>\n",
       "      <td>Dresses</td>\n",
       "    </tr>\n",
       "    <tr>\n",
       "      <th>3</th>\n",
       "      <td>3</td>\n",
       "      <td>1049</td>\n",
       "      <td>50</td>\n",
       "      <td>My favorite buy!</td>\n",
       "      <td>I love, love, love this jumpsuit. it's fun, fl...</td>\n",
       "      <td>5</td>\n",
       "      <td>1</td>\n",
       "      <td>0</td>\n",
       "      <td>General Petite</td>\n",
       "      <td>Bottoms</td>\n",
       "      <td>Pants</td>\n",
       "    </tr>\n",
       "    <tr>\n",
       "      <th>4</th>\n",
       "      <td>4</td>\n",
       "      <td>847</td>\n",
       "      <td>47</td>\n",
       "      <td>Flattering shirt</td>\n",
       "      <td>This shirt is very flattering to all due to th...</td>\n",
       "      <td>5</td>\n",
       "      <td>1</td>\n",
       "      <td>6</td>\n",
       "      <td>General</td>\n",
       "      <td>Tops</td>\n",
       "      <td>Blouses</td>\n",
       "    </tr>\n",
       "  </tbody>\n",
       "</table>\n",
       "</div>"
      ],
      "text/plain": [
       "   Unnamed: 0  Clothing ID  Age                    Title  \\\n",
       "0           0          767   33                      NaN   \n",
       "1           1         1080   34                      NaN   \n",
       "2           2         1077   60  Some major design flaws   \n",
       "3           3         1049   50         My favorite buy!   \n",
       "4           4          847   47         Flattering shirt   \n",
       "\n",
       "                                         Review Text  Rating  Recommended IND  \\\n",
       "0  Absolutely wonderful - silky and sexy and comf...       4                1   \n",
       "1  Love this dress!  it's sooo pretty.  i happene...       5                1   \n",
       "2  I had such high hopes for this dress and reall...       3                0   \n",
       "3  I love, love, love this jumpsuit. it's fun, fl...       5                1   \n",
       "4  This shirt is very flattering to all due to th...       5                1   \n",
       "\n",
       "   Positive Feedback Count   Division Name Department Name Class Name  \n",
       "0                        0       Initmates        Intimate  Intimates  \n",
       "1                        4         General         Dresses    Dresses  \n",
       "2                        0         General         Dresses    Dresses  \n",
       "3                        0  General Petite         Bottoms      Pants  \n",
       "4                        6         General            Tops    Blouses  "
      ]
     },
     "execution_count": 3,
     "metadata": {},
     "output_type": "execute_result"
    }
   ],
   "source": [
    "# Load the dataset\n",
    "df = pd.read_csv(\"/kaggle/input/ecommerce-reviews-for-women-clothings/Womens-Clothing-E-Commerce-Reviews.csv\", encoding=\"utf-8\")\n",
    "\n",
    "# Show the first five rows\n",
    "df.head()"
   ]
  },
  {
   "cell_type": "code",
   "execution_count": 4,
   "metadata": {
    "execution": {
     "iopub.execute_input": "2021-02-23T12:38:11.784533Z",
     "iopub.status.busy": "2021-02-23T12:38:11.783854Z",
     "iopub.status.idle": "2021-02-23T12:38:11.802316Z",
     "shell.execute_reply": "2021-02-23T12:38:11.801758Z"
    },
    "papermill": {
     "duration": 0.058256,
     "end_time": "2021-02-23T12:38:11.802453",
     "exception": false,
     "start_time": "2021-02-23T12:38:11.744197",
     "status": "completed"
    },
    "tags": []
   },
   "outputs": [
    {
     "name": "stdout",
     "output_type": "stream",
     "text": [
      "<class 'pandas.core.frame.DataFrame'>\n",
      "RangeIndex: 23488 entries, 0 to 23487\n",
      "Data columns (total 11 columns):\n",
      " #   Column                   Non-Null Count  Dtype \n",
      "---  ------                   --------------  ----- \n",
      " 0   Unnamed: 0               23488 non-null  int64 \n",
      " 1   Clothing ID              23488 non-null  int64 \n",
      " 2   Age                      23488 non-null  int64 \n",
      " 3   Title                    19678 non-null  object\n",
      " 4   Review Text              22643 non-null  object\n",
      " 5   Rating                   23488 non-null  int64 \n",
      " 6   Recommended IND          23488 non-null  int64 \n",
      " 7   Positive Feedback Count  23488 non-null  int64 \n",
      " 8   Division Name            23474 non-null  object\n",
      " 9   Department Name          23474 non-null  object\n",
      " 10  Class Name               23474 non-null  object\n",
      "dtypes: int64(6), object(5)\n",
      "memory usage: 2.0+ MB\n"
     ]
    }
   ],
   "source": [
    "# Get information of the data\n",
    "df.info()"
   ]
  },
  {
   "cell_type": "markdown",
   "metadata": {
    "papermill": {
     "duration": 0.022533,
     "end_time": "2021-02-23T12:38:11.847921",
     "exception": false,
     "start_time": "2021-02-23T12:38:11.825388",
     "status": "completed"
    },
    "tags": []
   },
   "source": [
    "## 1.1. Create Binary Variable \"Sentiment\""
   ]
  },
  {
   "cell_type": "code",
   "execution_count": 5,
   "metadata": {
    "execution": {
     "iopub.execute_input": "2021-02-23T12:38:11.900115Z",
     "iopub.status.busy": "2021-02-23T12:38:11.897896Z",
     "iopub.status.idle": "2021-02-23T12:38:11.904543Z",
     "shell.execute_reply": "2021-02-23T12:38:11.904026Z"
    },
    "papermill": {
     "duration": 0.033924,
     "end_time": "2021-02-23T12:38:11.904703",
     "exception": false,
     "start_time": "2021-02-23T12:38:11.870779",
     "status": "completed"
    },
    "tags": []
   },
   "outputs": [
    {
     "data": {
      "text/plain": [
       "1    19316\n",
       "0     4172\n",
       "Name: Recommended IND, dtype: int64"
      ]
     },
     "execution_count": 5,
     "metadata": {},
     "output_type": "execute_result"
    }
   ],
   "source": [
    "# Check the value of recommendation index\n",
    "df['Recommended IND'].value_counts()"
   ]
  },
  {
   "cell_type": "markdown",
   "metadata": {
    "papermill": {
     "duration": 0.023074,
     "end_time": "2021-02-23T12:38:11.951932",
     "exception": false,
     "start_time": "2021-02-23T12:38:11.928858",
     "status": "completed"
    },
    "tags": []
   },
   "source": [
    "- The variable \"Recommended IND\" is recorded with 0 or 1. So we can use it as the output variable for a binary classification.\n",
    "- There are much more positive cases than negative cases. The data is imbalanced.   "
   ]
  },
  {
   "cell_type": "markdown",
   "metadata": {
    "papermill": {
     "duration": 0.023322,
     "end_time": "2021-02-23T12:38:11.998866",
     "exception": false,
     "start_time": "2021-02-23T12:38:11.975544",
     "status": "completed"
    },
    "tags": []
   },
   "source": [
    "## 1.2. Preprocessing of Text Data"
   ]
  },
  {
   "cell_type": "markdown",
   "metadata": {
    "papermill": {
     "duration": 0.022973,
     "end_time": "2021-02-23T12:38:12.045213",
     "exception": false,
     "start_time": "2021-02-23T12:38:12.022240",
     "status": "completed"
    },
    "tags": []
   },
   "source": [
    "### 1.2.1. Delete Stopwords"
   ]
  },
  {
   "cell_type": "code",
   "execution_count": 6,
   "metadata": {
    "execution": {
     "iopub.execute_input": "2021-02-23T12:38:12.095032Z",
     "iopub.status.busy": "2021-02-23T12:38:12.094352Z",
     "iopub.status.idle": "2021-02-23T12:38:12.107116Z",
     "shell.execute_reply": "2021-02-23T12:38:12.106539Z"
    },
    "papermill": {
     "duration": 0.038752,
     "end_time": "2021-02-23T12:38:12.107280",
     "exception": false,
     "start_time": "2021-02-23T12:38:12.068528",
     "status": "completed"
    },
    "tags": []
   },
   "outputs": [],
   "source": [
    "# Set stopwords and lemmatizer\n",
    "stop_words = set(stopwords.words('english'))\n",
    "wordnet_lemmatizer = WordNetLemmatizer()"
   ]
  },
  {
   "cell_type": "code",
   "execution_count": 7,
   "metadata": {
    "execution": {
     "iopub.execute_input": "2021-02-23T12:38:12.168016Z",
     "iopub.status.busy": "2021-02-23T12:38:12.167282Z",
     "iopub.status.idle": "2021-02-23T12:38:12.169405Z",
     "shell.execute_reply": "2021-02-23T12:38:12.169948Z"
    },
    "papermill": {
     "duration": 0.038582,
     "end_time": "2021-02-23T12:38:12.170123",
     "exception": false,
     "start_time": "2021-02-23T12:38:12.131541",
     "status": "completed"
    },
    "tags": []
   },
   "outputs": [],
   "source": [
    "# Define a function to delete stopwords\n",
    "def review_to_words(raw_review):\n",
    "    letters_only = re.sub(\"[^a-zA-Z]\", \" \",str(raw_review)) \n",
    "    words = letters_only.lower().split()                             \n",
    "    stops = set(stopwords.words(\"english\"))                  \n",
    "    meaningful_words = [w for w in words if not w in stops] \n",
    "    return( \" \".join( meaningful_words )) "
   ]
  },
  {
   "cell_type": "code",
   "execution_count": 8,
   "metadata": {
    "execution": {
     "iopub.execute_input": "2021-02-23T12:38:12.236702Z",
     "iopub.status.busy": "2021-02-23T12:38:12.231041Z",
     "iopub.status.idle": "2021-02-23T12:38:16.752425Z",
     "shell.execute_reply": "2021-02-23T12:38:16.751765Z"
    },
    "papermill": {
     "duration": 4.554473,
     "end_time": "2021-02-23T12:38:16.752590",
     "exception": false,
     "start_time": "2021-02-23T12:38:12.198117",
     "status": "completed"
    },
    "tags": []
   },
   "outputs": [
    {
     "data": {
      "text/html": [
       "<div>\n",
       "<style scoped>\n",
       "    .dataframe tbody tr th:only-of-type {\n",
       "        vertical-align: middle;\n",
       "    }\n",
       "\n",
       "    .dataframe tbody tr th {\n",
       "        vertical-align: top;\n",
       "    }\n",
       "\n",
       "    .dataframe thead th {\n",
       "        text-align: right;\n",
       "    }\n",
       "</style>\n",
       "<table border=\"1\" class=\"dataframe\">\n",
       "  <thead>\n",
       "    <tr style=\"text-align: right;\">\n",
       "      <th></th>\n",
       "      <th>Review Text</th>\n",
       "      <th>Cleaned_Review</th>\n",
       "    </tr>\n",
       "  </thead>\n",
       "  <tbody>\n",
       "    <tr>\n",
       "      <th>0</th>\n",
       "      <td>Absolutely wonderful - silky and sexy and comf...</td>\n",
       "      <td>absolutely wonderful silky sexy comfortable</td>\n",
       "    </tr>\n",
       "    <tr>\n",
       "      <th>1</th>\n",
       "      <td>Love this dress!  it's sooo pretty.  i happene...</td>\n",
       "      <td>love dress sooo pretty happened find store gla...</td>\n",
       "    </tr>\n",
       "    <tr>\n",
       "      <th>2</th>\n",
       "      <td>I had such high hopes for this dress and reall...</td>\n",
       "      <td>high hopes dress really wanted work initially ...</td>\n",
       "    </tr>\n",
       "    <tr>\n",
       "      <th>3</th>\n",
       "      <td>I love, love, love this jumpsuit. it's fun, fl...</td>\n",
       "      <td>love love love jumpsuit fun flirty fabulous ev...</td>\n",
       "    </tr>\n",
       "    <tr>\n",
       "      <th>4</th>\n",
       "      <td>This shirt is very flattering to all due to th...</td>\n",
       "      <td>shirt flattering due adjustable front tie perf...</td>\n",
       "    </tr>\n",
       "  </tbody>\n",
       "</table>\n",
       "</div>"
      ],
      "text/plain": [
       "                                         Review Text  \\\n",
       "0  Absolutely wonderful - silky and sexy and comf...   \n",
       "1  Love this dress!  it's sooo pretty.  i happene...   \n",
       "2  I had such high hopes for this dress and reall...   \n",
       "3  I love, love, love this jumpsuit. it's fun, fl...   \n",
       "4  This shirt is very flattering to all due to th...   \n",
       "\n",
       "                                      Cleaned_Review  \n",
       "0        absolutely wonderful silky sexy comfortable  \n",
       "1  love dress sooo pretty happened find store gla...  \n",
       "2  high hopes dress really wanted work initially ...  \n",
       "3  love love love jumpsuit fun flirty fabulous ev...  \n",
       "4  shirt flattering due adjustable front tie perf...  "
      ]
     },
     "execution_count": 8,
     "metadata": {},
     "output_type": "execute_result"
    }
   ],
   "source": [
    "# Apply the function to delete stopwords from product review text\n",
    "df['Cleaned_Review'] = df['Review Text'].apply(lambda x: review_to_words(x))\n",
    "\n",
    "# Show the first five rows\n",
    "df[['Review Text', 'Cleaned_Review']].head()"
   ]
  },
  {
   "cell_type": "markdown",
   "metadata": {
    "papermill": {
     "duration": 0.024025,
     "end_time": "2021-02-23T12:38:16.800934",
     "exception": false,
     "start_time": "2021-02-23T12:38:16.776909",
     "status": "completed"
    },
    "tags": []
   },
   "source": [
    "### 1.2.2. Stemming"
   ]
  },
  {
   "cell_type": "code",
   "execution_count": 9,
   "metadata": {
    "execution": {
     "iopub.execute_input": "2021-02-23T12:38:16.854929Z",
     "iopub.status.busy": "2021-02-23T12:38:16.853906Z",
     "iopub.status.idle": "2021-02-23T12:38:16.856880Z",
     "shell.execute_reply": "2021-02-23T12:38:16.856230Z"
    },
    "papermill": {
     "duration": 0.031855,
     "end_time": "2021-02-23T12:38:16.857026",
     "exception": false,
     "start_time": "2021-02-23T12:38:16.825171",
     "status": "completed"
    },
    "tags": []
   },
   "outputs": [],
   "source": [
    "# Initiate stemmers\n",
    "porter = PorterStemmer()\n",
    "lancaster=LancasterStemmer()"
   ]
  },
  {
   "cell_type": "code",
   "execution_count": 10,
   "metadata": {
    "execution": {
     "iopub.execute_input": "2021-02-23T12:38:16.909450Z",
     "iopub.status.busy": "2021-02-23T12:38:16.908504Z",
     "iopub.status.idle": "2021-02-23T12:38:16.913596Z",
     "shell.execute_reply": "2021-02-23T12:38:16.914155Z"
    },
    "papermill": {
     "duration": 0.032701,
     "end_time": "2021-02-23T12:38:16.914361",
     "exception": false,
     "start_time": "2021-02-23T12:38:16.881660",
     "status": "completed"
    },
    "tags": []
   },
   "outputs": [],
   "source": [
    "# Define a function to apply porter stemming\n",
    "def stemSentence(sentence):\n",
    "    token_words=word_tokenize(sentence)\n",
    "    token_words\n",
    "    stem_sentence=[]\n",
    "    for word in token_words:\n",
    "        stem_sentence.append(porter.stem(word))\n",
    "        stem_sentence.append(\" \")\n",
    "    return \"\".join(stem_sentence)"
   ]
  },
  {
   "cell_type": "code",
   "execution_count": 11,
   "metadata": {
    "execution": {
     "iopub.execute_input": "2021-02-23T12:38:16.966995Z",
     "iopub.status.busy": "2021-02-23T12:38:16.966107Z",
     "iopub.status.idle": "2021-02-23T12:38:16.987395Z",
     "shell.execute_reply": "2021-02-23T12:38:16.986873Z"
    },
    "papermill": {
     "duration": 0.048832,
     "end_time": "2021-02-23T12:38:16.987570",
     "exception": false,
     "start_time": "2021-02-23T12:38:16.938738",
     "status": "completed"
    },
    "tags": []
   },
   "outputs": [
    {
     "data": {
      "text/plain": [
       "\"I wa born in japan on septemb 6th , and it is also my friend 's birthday . \""
      ]
     },
     "execution_count": 11,
     "metadata": {},
     "output_type": "execute_result"
    }
   ],
   "source": [
    "# Apply the porter stemming to an example sentence.\n",
    "stemSentence(\"I was born in Japan on September 6th, and it is also my friend's birthday.\")"
   ]
  },
  {
   "cell_type": "markdown",
   "metadata": {
    "papermill": {
     "duration": 0.024452,
     "end_time": "2021-02-23T12:38:17.037304",
     "exception": false,
     "start_time": "2021-02-23T12:38:17.012852",
     "status": "completed"
    },
    "tags": []
   },
   "source": [
    "- Porter stemming made some words meaningless."
   ]
  },
  {
   "cell_type": "markdown",
   "metadata": {
    "papermill": {
     "duration": 0.024135,
     "end_time": "2021-02-23T12:38:17.086343",
     "exception": false,
     "start_time": "2021-02-23T12:38:17.062208",
     "status": "completed"
    },
    "tags": []
   },
   "source": [
    "### 1.2.3. Tokenization and Lemmatization"
   ]
  },
  {
   "cell_type": "code",
   "execution_count": 12,
   "metadata": {
    "execution": {
     "iopub.execute_input": "2021-02-23T12:38:17.141098Z",
     "iopub.status.busy": "2021-02-23T12:38:17.140112Z",
     "iopub.status.idle": "2021-02-23T12:38:17.143132Z",
     "shell.execute_reply": "2021-02-23T12:38:17.142619Z"
    },
    "papermill": {
     "duration": 0.031846,
     "end_time": "2021-02-23T12:38:17.143278",
     "exception": false,
     "start_time": "2021-02-23T12:38:17.111432",
     "status": "completed"
    },
    "tags": []
   },
   "outputs": [],
   "source": [
    "# Initiate lemmatizer\n",
    "wordnet_lemmatizer = WordNetLemmatizer()"
   ]
  },
  {
   "cell_type": "code",
   "execution_count": 13,
   "metadata": {
    "execution": {
     "iopub.execute_input": "2021-02-23T12:38:17.199430Z",
     "iopub.status.busy": "2021-02-23T12:38:17.198782Z",
     "iopub.status.idle": "2021-02-23T12:38:17.201009Z",
     "shell.execute_reply": "2021-02-23T12:38:17.201679Z"
    },
    "papermill": {
     "duration": 0.033614,
     "end_time": "2021-02-23T12:38:17.201853",
     "exception": false,
     "start_time": "2021-02-23T12:38:17.168239",
     "status": "completed"
    },
    "tags": []
   },
   "outputs": [],
   "source": [
    "# Define a function to perform both tokenization and stemming\n",
    "def tokenize_and_lemmatize(text):\n",
    "    \n",
    "    # Tokenize by sentence, then by word\n",
    "    tokens = [y for x in nltk.sent_tokenize(text) for y in nltk.word_tokenize(x)]\n",
    "    \n",
    "    # Filter out raw tokens to remove noise\n",
    "    filtered_tokens = [token for token in tokens if re.search('[a-zA-Z]', token)]\n",
    "    \n",
    "    # Stem the filtered_tokens\n",
    "    lemmas = [wordnet_lemmatizer.lemmatize(word, pos=\"v\") for word in filtered_tokens]\n",
    "    \n",
    "    return lemmas"
   ]
  },
  {
   "cell_type": "code",
   "execution_count": 14,
   "metadata": {
    "execution": {
     "iopub.execute_input": "2021-02-23T12:38:17.257944Z",
     "iopub.status.busy": "2021-02-23T12:38:17.257039Z",
     "iopub.status.idle": "2021-02-23T12:38:19.312210Z",
     "shell.execute_reply": "2021-02-23T12:38:19.313019Z"
    },
    "papermill": {
     "duration": 2.086004,
     "end_time": "2021-02-23T12:38:19.313249",
     "exception": false,
     "start_time": "2021-02-23T12:38:17.227245",
     "status": "completed"
    },
    "tags": []
   },
   "outputs": [
    {
     "name": "stdout",
     "output_type": "stream",
     "text": [
      "['I', 'be', 'bear', 'in', 'Japan', 'on', 'September', '6th', 'and', 'it', 'be', 'also', 'my', 'friend', \"'s\", 'birthday']\n"
     ]
    }
   ],
   "source": [
    "# Apply tokenization and lemmatization to an example sentence.\n",
    "words_lemmatized = tokenize_and_lemmatize(\"I was born in Japan on September 6th, and it is also my friend's birthday.\")\n",
    "print(words_lemmatized)"
   ]
  },
  {
   "cell_type": "markdown",
   "metadata": {
    "papermill": {
     "duration": 0.026425,
     "end_time": "2021-02-23T12:38:19.366803",
     "exception": false,
     "start_time": "2021-02-23T12:38:19.340378",
     "status": "completed"
    },
    "tags": []
   },
   "source": [
    "- Tokenization and lemmatization leds to separated but meaningful words."
   ]
  },
  {
   "cell_type": "markdown",
   "metadata": {
    "papermill": {
     "duration": 0.025775,
     "end_time": "2021-02-23T12:38:19.418688",
     "exception": false,
     "start_time": "2021-02-23T12:38:19.392913",
     "status": "completed"
    },
    "tags": []
   },
   "source": [
    "## 1.3. Create vectorized training data and test data"
   ]
  },
  {
   "cell_type": "code",
   "execution_count": 15,
   "metadata": {
    "execution": {
     "iopub.execute_input": "2021-02-23T12:38:19.476034Z",
     "iopub.status.busy": "2021-02-23T12:38:19.475224Z",
     "iopub.status.idle": "2021-02-23T12:38:19.478443Z",
     "shell.execute_reply": "2021-02-23T12:38:19.477844Z"
    },
    "papermill": {
     "duration": 0.034235,
     "end_time": "2021-02-23T12:38:19.478611",
     "exception": false,
     "start_time": "2021-02-23T12:38:19.444376",
     "status": "completed"
    },
    "tags": []
   },
   "outputs": [],
   "source": [
    "# Instantiate TfidfVectorizer object with stopwords and tokenizer\n",
    "# parameters for efficient processing of text\n",
    "vectorizer = TfidfVectorizer(max_df=0.9, max_features=200000,\n",
    "                             min_df=0.1, stop_words='english',\n",
    "                             use_idf=True, tokenizer=tokenize_and_lemmatize,\n",
    "                             ngram_range=(1,3))"
   ]
  },
  {
   "cell_type": "code",
   "execution_count": 16,
   "metadata": {
    "execution": {
     "iopub.execute_input": "2021-02-23T12:38:19.537650Z",
     "iopub.status.busy": "2021-02-23T12:38:19.536875Z",
     "iopub.status.idle": "2021-02-23T12:38:37.877060Z",
     "shell.execute_reply": "2021-02-23T12:38:37.876262Z"
    },
    "papermill": {
     "duration": 18.372596,
     "end_time": "2021-02-23T12:38:37.877222",
     "exception": false,
     "start_time": "2021-02-23T12:38:19.504626",
     "status": "completed"
    },
    "tags": []
   },
   "outputs": [
    {
     "name": "stderr",
     "output_type": "stream",
     "text": [
      "/opt/conda/lib/python3.7/site-packages/sklearn/feature_extraction/text.py:386: UserWarning: Your stop_words may be inconsistent with your preprocessing. Tokenizing the stop words generated tokens ['make'] not in stop_words.\n",
      "  'stop_words.' % sorted(inconsistent))\n"
     ]
    }
   ],
   "source": [
    "# Split data into train data and test data\n",
    "train_data, test_data = train_test_split(df, train_size=0.7, random_state=0)\n",
    "\n",
    "# Split train data into vectorized X and y\n",
    "X_train = vectorizer.fit_transform(train_data['Cleaned_Review']).toarray()\n",
    "y_train = train_data['Recommended IND']\n",
    "\n",
    "# Split test data into vectorized X and y\n",
    "X_test = vectorizer.transform(test_data['Cleaned_Review'])\n",
    "y_test = test_data['Recommended IND']"
   ]
  },
  {
   "cell_type": "code",
   "execution_count": 17,
   "metadata": {
    "execution": {
     "iopub.execute_input": "2021-02-23T12:38:37.935330Z",
     "iopub.status.busy": "2021-02-23T12:38:37.934705Z",
     "iopub.status.idle": "2021-02-23T12:38:53.290753Z",
     "shell.execute_reply": "2021-02-23T12:38:53.290203Z"
    },
    "papermill": {
     "duration": 15.387513,
     "end_time": "2021-02-23T12:38:53.290905",
     "exception": false,
     "start_time": "2021-02-23T12:38:37.903392",
     "status": "completed"
    },
    "tags": []
   },
   "outputs": [
    {
     "data": {
      "text/plain": [
       "1    13519\n",
       "0    11174\n",
       "Name: Recommended IND, dtype: int64"
      ]
     },
     "execution_count": 17,
     "metadata": {},
     "output_type": "execute_result"
    }
   ],
   "source": [
    "# Rebalance the Data with SMOTE-ENN\n",
    "X_train, y_train=SMOTEENN(enn=EditedNearestNeighbours(sampling_strategy='majority')).fit_sample(X_train,y_train)\n",
    "\n",
    "y_train.value_counts()"
   ]
  },
  {
   "cell_type": "markdown",
   "metadata": {
    "papermill": {
     "duration": 0.026455,
     "end_time": "2021-02-23T12:38:53.344128",
     "exception": false,
     "start_time": "2021-02-23T12:38:53.317673",
     "status": "completed"
    },
    "tags": []
   },
   "source": [
    "# 2. Classification"
   ]
  },
  {
   "cell_type": "markdown",
   "metadata": {
    "papermill": {
     "duration": 0.027513,
     "end_time": "2021-02-23T12:38:53.398287",
     "exception": false,
     "start_time": "2021-02-23T12:38:53.370774",
     "status": "completed"
    },
    "tags": []
   },
   "source": [
    "## 2.1. Logistic Regression"
   ]
  },
  {
   "cell_type": "code",
   "execution_count": 18,
   "metadata": {
    "execution": {
     "iopub.execute_input": "2021-02-23T12:38:53.459548Z",
     "iopub.status.busy": "2021-02-23T12:38:53.458515Z",
     "iopub.status.idle": "2021-02-23T12:38:53.642059Z",
     "shell.execute_reply": "2021-02-23T12:38:53.642873Z"
    },
    "papermill": {
     "duration": 0.218008,
     "end_time": "2021-02-23T12:38:53.643171",
     "exception": false,
     "start_time": "2021-02-23T12:38:53.425163",
     "status": "completed"
    },
    "tags": []
   },
   "outputs": [
    {
     "name": "stdout",
     "output_type": "stream",
     "text": [
      "Accuracy:0.753\n",
      "Precision:0.903\n",
      "Recall:0.784\n",
      "F1 Score:0.839\n",
      "ROC AUC Score:0.697\n"
     ]
    },
    {
     "data": {
      "text/plain": [
       "array([[ 764,  486],\n",
       "       [1254, 4543]])"
      ]
     },
     "execution_count": 18,
     "metadata": {},
     "output_type": "execute_result"
    }
   ],
   "source": [
    "# Initiate and train the model\n",
    "lr = LogisticRegression().fit(X_train, y_train)\n",
    "\n",
    "# Make prediction\n",
    "lr_pred = lr.predict(X_test)\n",
    "\n",
    "# Show the model performance\n",
    "print(\"Accuracy:{:.3f}\". format(accuracy_score(y_test, lr_pred)))\n",
    "print(\"Precision:{:.3f}\". format(precision_score(y_test, lr_pred)))\n",
    "print(\"Recall:{:.3f}\". format(recall_score(y_test, lr_pred)))\n",
    "print(\"F1 Score:{:.3f}\". format(f1_score(y_test, lr_pred)))\n",
    "print(\"ROC AUC Score:{:.3f}\". format(roc_auc_score(y_test, lr_pred)))\n",
    "confusion_matrix(y_test, lr_pred)"
   ]
  },
  {
   "cell_type": "markdown",
   "metadata": {
    "papermill": {
     "duration": 0.029874,
     "end_time": "2021-02-23T12:38:53.721639",
     "exception": false,
     "start_time": "2021-02-23T12:38:53.691765",
     "status": "completed"
    },
    "tags": []
   },
   "source": [
    "## 2.2. Naive Bayes Classification"
   ]
  },
  {
   "cell_type": "code",
   "execution_count": 19,
   "metadata": {
    "execution": {
     "iopub.execute_input": "2021-02-23T12:38:53.784760Z",
     "iopub.status.busy": "2021-02-23T12:38:53.783705Z",
     "iopub.status.idle": "2021-02-23T12:38:53.845060Z",
     "shell.execute_reply": "2021-02-23T12:38:53.845898Z"
    },
    "papermill": {
     "duration": 0.096861,
     "end_time": "2021-02-23T12:38:53.846189",
     "exception": false,
     "start_time": "2021-02-23T12:38:53.749328",
     "status": "completed"
    },
    "tags": []
   },
   "outputs": [
    {
     "name": "stdout",
     "output_type": "stream",
     "text": [
      "Accuracy:0.775\n",
      "Precision:0.891\n",
      "Recall:0.828\n",
      "F1 Score:0.858\n",
      "ROC AUC Score:0.679\n"
     ]
    },
    {
     "data": {
      "text/plain": [
       "array([[ 662,  588],\n",
       "       [ 996, 4801]])"
      ]
     },
     "execution_count": 19,
     "metadata": {},
     "output_type": "execute_result"
    }
   ],
   "source": [
    "# Initiate and train the model\n",
    "nb = MultinomialNB().fit(X_train, y_train)\n",
    "\n",
    "# Make Prediction\n",
    "nb_pred = nb.predict(X_test)\n",
    "\n",
    "# Show model performance\n",
    "print(\"Accuracy:{:.3f}\". format(accuracy_score(y_test, nb_pred)))\n",
    "print(\"Precision:{:.3f}\". format(precision_score(y_test, nb_pred)))\n",
    "print(\"Recall:{:.3f}\". format(recall_score(y_test, nb_pred)))\n",
    "print(\"F1 Score:{:.3f}\". format(f1_score(y_test, nb_pred)))\n",
    "print(\"ROC AUC Score:{:.3f}\". format(roc_auc_score(y_test, nb_pred)))\n",
    "confusion_matrix(y_test, nb_pred)"
   ]
  },
  {
   "cell_type": "markdown",
   "metadata": {
    "papermill": {
     "duration": 0.03307,
     "end_time": "2021-02-23T12:38:53.930284",
     "exception": false,
     "start_time": "2021-02-23T12:38:53.897214",
     "status": "completed"
    },
    "tags": []
   },
   "source": [
    "## 2.3. SVM"
   ]
  },
  {
   "cell_type": "code",
   "execution_count": 20,
   "metadata": {
    "execution": {
     "iopub.execute_input": "2021-02-23T12:38:53.994220Z",
     "iopub.status.busy": "2021-02-23T12:38:53.993578Z",
     "iopub.status.idle": "2021-02-23T12:38:54.146930Z",
     "shell.execute_reply": "2021-02-23T12:38:54.147598Z"
    },
    "papermill": {
     "duration": 0.189504,
     "end_time": "2021-02-23T12:38:54.147834",
     "exception": false,
     "start_time": "2021-02-23T12:38:53.958330",
     "status": "completed"
    },
    "tags": []
   },
   "outputs": [
    {
     "name": "stdout",
     "output_type": "stream",
     "text": [
      "Accuracy:0.750\n",
      "Precision:0.904\n",
      "Recall:0.778\n",
      "F1 Score:0.836\n",
      "ROC AUC Score:0.697\n"
     ]
    },
    {
     "data": {
      "text/plain": [
       "array([[ 770,  480],\n",
       "       [1285, 4512]])"
      ]
     },
     "execution_count": 20,
     "metadata": {},
     "output_type": "execute_result"
    }
   ],
   "source": [
    "# Initiate and train the model\n",
    "svm = LinearSVC().fit(X_train, y_train)\n",
    "\n",
    "# Make prediction\n",
    "svm_pred = svm.predict(X_test)\n",
    "\n",
    "# Show model performance\n",
    "print(\"Accuracy:{:.3f}\". format(accuracy_score(y_test, svm_pred)))\n",
    "print(\"Precision:{:.3f}\". format(precision_score(y_test, svm_pred)))\n",
    "print(\"Recall:{:.3f}\". format(recall_score(y_test, svm_pred)))\n",
    "print(\"F1 Score:{:.3f}\". format(f1_score(y_test, svm_pred)))\n",
    "print(\"ROC AUC Score:{:.3f}\". format(roc_auc_score(y_test, svm_pred)))\n",
    "confusion_matrix(y_test, svm_pred)"
   ]
  },
  {
   "cell_type": "markdown",
   "metadata": {
    "papermill": {
     "duration": 0.02858,
     "end_time": "2021-02-23T12:38:54.205854",
     "exception": false,
     "start_time": "2021-02-23T12:38:54.177274",
     "status": "completed"
    },
    "tags": []
   },
   "source": [
    "# 3. ROC Curve"
   ]
  },
  {
   "cell_type": "code",
   "execution_count": 21,
   "metadata": {
    "execution": {
     "iopub.execute_input": "2021-02-23T12:38:54.269135Z",
     "iopub.status.busy": "2021-02-23T12:38:54.268428Z",
     "iopub.status.idle": "2021-02-23T12:38:54.270868Z",
     "shell.execute_reply": "2021-02-23T12:38:54.270262Z"
    },
    "papermill": {
     "duration": 0.036013,
     "end_time": "2021-02-23T12:38:54.271002",
     "exception": false,
     "start_time": "2021-02-23T12:38:54.234989",
     "status": "completed"
    },
    "tags": []
   },
   "outputs": [],
   "source": [
    "# Create a dictionary of all models.\n",
    "models = [{'label': 'Logistic Regression','model': lr,},\n",
    "          {'label': 'Naive Bayes','model': nb,},\n",
    "          {'label': 'SVM','model': svm,}\n",
    "         ]"
   ]
  },
  {
   "cell_type": "code",
   "execution_count": 22,
   "metadata": {
    "execution": {
     "iopub.execute_input": "2021-02-23T12:38:54.337634Z",
     "iopub.status.busy": "2021-02-23T12:38:54.336855Z",
     "iopub.status.idle": "2021-02-23T12:38:54.881468Z",
     "shell.execute_reply": "2021-02-23T12:38:54.880843Z"
    },
    "papermill": {
     "duration": 0.581444,
     "end_time": "2021-02-23T12:38:54.881646",
     "exception": false,
     "start_time": "2021-02-23T12:38:54.300202",
     "status": "completed"
    },
    "tags": []
   },
   "outputs": [
    {
     "data": {
      "image/png": "[encoded data removed]",
      "text/plain": [
       "<Figure size 432x288 with 1 Axes>"
      ]
     },
     "metadata": {
      "needs_background": "light"
     },
     "output_type": "display_data"
    }
   ],
   "source": [
    "# Plot the ROC curve.\n",
    "for m in models:\n",
    "    model = m['model']\n",
    "    model.fit(X_train, y_train)\n",
    "    y_pred=model.predict(X_test)\n",
    "    fpr, tpr, thresholds = roc_curve(y_test, y_pred, pos_label=1)\n",
    "    roc_auc = metrics.auc(fpr, tpr)\n",
    "    plt.plot(fpr, tpr, label='%s AUC = %0.2f' % (m['label'], roc_auc))\n",
    "\n",
    "plt.plot([0, 1], [0, 1],'r--')\n",
    "plt.xlim([0.0, 1.0])\n",
    "plt.ylim([0.0, 1.05])\n",
    "plt.ylabel('Sensitivity(True Positive Rate)')\n",
    "plt.xlabel('1-Specificity(False Positive Rate)')\n",
    "plt.title('Receiver Operating Characteristic')\n",
    "plt.legend(loc=\"lower right\")\n",
    "plt.show()"
   ]
  },
  {
   "cell_type": "markdown",
   "metadata": {
    "papermill": {
     "duration": 0.031426,
     "end_time": "2021-02-23T12:38:54.944279",
     "exception": false,
     "start_time": "2021-02-23T12:38:54.912853",
     "status": "completed"
    },
    "tags": []
   },
   "source": [
    "- SVM achieved the best performance."
   ]
  },
  {
   "cell_type": "code",
   "execution_count": null,
   "metadata": {
    "papermill": {
     "duration": 0.030908,
     "end_time": "2021-02-23T12:38:55.005767",
     "exception": false,
     "start_time": "2021-02-23T12:38:54.974859",
     "status": "completed"
    },
    "tags": []
   },
   "outputs": [],
   "source": []
  }
 ],
 "metadata": {
  "kernelspec": {
   "display_name": "Python 3",
   "language": "python",
   "name": "python3"
  },
  "language_info": {
   "codemirror_mode": {
    "name": "ipython",
    "version": 3
   },
   "file_extension": ".py",
   "mimetype": "text/x-python",
   "name": "python",
   "nbconvert_exporter": "python",
   "pygments_lexer": "ipython3",
   "version": "3.7.9"
  },
  "papermill": {
   "default_parameters": {},
   "duration": 52.495225,
   "end_time": "2021-02-23T12:38:56.049968",
   "environment_variables": {},
   "exception": null,
   "input_path": "__notebook__.ipynb",
   "output_path": "__notebook__.ipynb",
   "parameters": {},
   "start_time": "2021-02-23T12:38:03.554743",
   "version": "2.2.2"
  }
 },
 "nbformat": 4,
 "nbformat_minor": 4
}
